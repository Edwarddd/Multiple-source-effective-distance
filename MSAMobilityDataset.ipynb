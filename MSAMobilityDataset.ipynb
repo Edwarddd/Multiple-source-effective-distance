{
 "cells": [
  {
   "cell_type": "code",
   "execution_count": null,
   "metadata": {},
   "outputs": [],
   "source": [
    "import pandas as pd\n",
    "import numpy as np"
   ]
  },
  {
   "cell_type": "code",
   "execution_count": null,
   "metadata": {},
   "outputs": [],
   "source": [
    "filepath='/Data/'"
   ]
  },
  {
   "cell_type": "code",
   "execution_count": null,
   "metadata": {},
   "outputs": [],
   "source": [
    "# Normal Mobility 3/13 national emergency, select 1/21-6/29\n",
    "daycount=0\n",
    "Mobrec=pd.DataFrame()\n",
    "for date in list(range(20200121,20200132))+list(range(20200201,20200230))+list(range(20200301,20200332))+list(range(20200401,20200431))+list(range(20200501,20200532))+list(range(20200601,20200630)):\n",
    "    daycount=daycount+1\n",
    "    print(date)\n",
    "    Mob=pd.read_csv(filepath+'Mobility_tillJune/agg_'+str(date)+'00.csv_move.csv')\n",
    "    Mob['date']=date\n",
    "    a=Mob.groupby('GEOID1')['counts_x'].sum()\n",
    "    a.to_dict()\n",
    "    Mob['sum_x']=Mob['GEOID1'].map(a)\n",
    "    Mobrec=Mobrec.append(Mob)\n",
    "Mob=Mobrec\n",
    "del Mobrec"
   ]
  },
  {
   "cell_type": "code",
   "execution_count": null,
   "metadata": {},
   "outputs": [],
   "source": [
    "Mob=Mob[['date','GEOID1','GEOID2','counts_x','counts_y','sum_x']]"
   ]
  },
  {
   "cell_type": "code",
   "execution_count": null,
   "metadata": {},
   "outputs": [],
   "source": [
    "Mob.to_csv(filepath+'MSA_Dataset_TillJune.csv')"
   ]
  }
 ],
 "metadata": {
  "kernelspec": {
   "display_name": "Python 3",
   "language": "python",
   "name": "python3"
  },
  "language_info": {
   "codemirror_mode": {
    "name": "ipython",
    "version": 3
   },
   "file_extension": ".py",
   "mimetype": "text/x-python",
   "name": "python",
   "nbconvert_exporter": "python",
   "pygments_lexer": "ipython3",
   "version": "3.7.3"
  }
 },
 "nbformat": 4,
 "nbformat_minor": 2
}
