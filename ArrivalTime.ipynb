{
 "cells": [
  {
   "cell_type": "code",
   "execution_count": null,
   "metadata": {},
   "outputs": [],
   "source": [
    "import pandas as pd\n",
    "import numpy as np"
   ]
  },
  {
   "cell_type": "code",
   "execution_count": null,
   "metadata": {},
   "outputs": [],
   "source": [
    "NatEmeDay=50\n",
    "filepath='/Data/'"
   ]
  },
  {
   "cell_type": "code",
   "execution_count": null,
   "metadata": {},
   "outputs": [],
   "source": [
    "#Arrival Time\n",
    "Conf=pd.read_csv(filepath+'time_series_covid19_confirmed_US_tillJuly.csv')\n",
    "\n",
    "for i in list(Conf[Conf['FIPS'].isnull()].index):\n",
    "    Conf.at[i,'FIPS']=Conf.iloc[i]['UID']-84000000\n",
    "\n",
    "d=list()\n",
    "for i in Conf['FIPS']:\n",
    "    if (Conf[Conf['FIPS']==i].iloc[:,11:]).gt(1).any(axis=None):\n",
    "        d.append((Conf[Conf['FIPS']==i].iloc[:,11:]).gt(1).values.argmax())\n",
    "    else:\n",
    "        d.append(np.nan)\n",
    "Conf['Days']=d\n",
    "Conf.to_csv(filepath+'ArrivalTime/'+'County_ArrT_allrecords_Th1_tillJuly.csv')"
   ]
  }
 ],
 "metadata": {
  "kernelspec": {
   "display_name": "Python 3",
   "language": "python",
   "name": "python3"
  },
  "language_info": {
   "codemirror_mode": {
    "name": "ipython",
    "version": 3
   },
   "file_extension": ".py",
   "mimetype": "text/x-python",
   "name": "python",
   "nbconvert_exporter": "python",
   "pygments_lexer": "ipython3",
   "version": "3.7.3"
  }
 },
 "nbformat": 4,
 "nbformat_minor": 2
}
