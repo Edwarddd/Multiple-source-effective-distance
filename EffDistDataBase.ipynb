{
 "cells": [
  {
   "cell_type": "code",
   "execution_count": null,
   "metadata": {},
   "outputs": [],
   "source": [
    "import pandas as pd\n",
    "import numpy as np\n",
    "import networkx as nx\n",
    "import matplotlib.pyplot as plt\n",
    "import matplotlib.patches as patches\n",
    "import statistics\n",
    "import scipy.stats as st\n",
    "\n",
    "\n",
    "import time\n",
    "start = time.time()\n",
    "\n",
    "from scipy.stats import linregress\n",
    "from sklearn import datasets, linear_model\n",
    "from sklearn.metrics import mean_squared_error, r2_score\n"
   ]
  },
  {
   "cell_type": "code",
   "execution_count": null,
   "metadata": {},
   "outputs": [],
   "source": [
    "filepath='/home/yanchao/COVID19/Data/'\n",
    "EdgeCutoff=300\n",
    "Mob=pd.read_csv(filepath+'MSA_Dataset_TillJune.csv',index_col=0)"
   ]
  },
  {
   "cell_type": "code",
   "execution_count": null,
   "metadata": {},
   "outputs": [],
   "source": [
    "CtyConfOri=pd.read_csv(filepath+'ArrivalTime/'+'County_ArrT_allrecords_Th1.csv')\n",
    "CtyConfOri['FIPS']=CtyConfOri['FIPS'].astype(int)"
   ]
  },
  {
   "cell_type": "code",
   "execution_count": null,
   "metadata": {},
   "outputs": [],
   "source": [
    "CtySource=6075\n",
    "CtySourcelist=[6075, 25025]\n",
    "\n",
    "\n",
    "print(CtySourcelist)\n",
    "print(CtyConfOri[CtyConfOri['FIPS'].isin(CtySourcelist)][['Admin2','Province_State']])\n",
    "Ctylist=list((set(dict.fromkeys(list(Mob['GEOID1'])))) & (set(dict.fromkeys(list(CtyConfOri['FIPS'])))))\n",
    "CtyM=len(Ctylist)\n",
    "\n",
    "CtyTargetlist=[i for i in Ctylist if i not in CtySourcelist] "
   ]
  },
  {
   "cell_type": "code",
   "execution_count": null,
   "metadata": {},
   "outputs": [],
   "source": [
    "CtyDayZero=CtyConfOri[CtyConfOri['FIPS']==CtySource]['Days'].iat[0]\n",
    "CtyConfOri['Daysfrom122']=CtyConfOri['Days']\n",
    "CtyConfOri['Days']=CtyConfOri['Daysfrom122']-CtyDayZero"
   ]
  },
  {
   "cell_type": "code",
   "execution_count": null,
   "metadata": {},
   "outputs": [],
   "source": [
    "datelistori=list(dict.fromkeys(Mob['date']))\n",
    "Ctydatelist=datelistori[int(CtyDayZero):] #[0:52]"
   ]
  },
  {
   "cell_type": "code",
   "execution_count": null,
   "metadata": {},
   "outputs": [],
   "source": [
    "SingleEffdist=pd.DataFrame()\n",
    "MultiEffdist=pd.DataFrame()\n",
    "MixEffdist=pd.DataFrame()\n",
    "Days=-int(CtyDayZero)\n",
    "sourcelist=CtySourcelist\n",
    "targetlist=CtyTargetlist\n",
    "\n",
    "for date in datelistori:\n",
    "    DayMob=pd.DataFrame()\n",
    "    DayMob=Mob[Mob['date']==date]\n",
    "\n",
    "    DayMob['Fraction']=DayMob['counts_x']/DayMob['counts_y'] #sum_x, Basesum_x\n",
    "    DayMob['effdist']=1-np.log(DayMob['Fraction'])\n",
    "    G=nx.from_pandas_edgelist(DayMob,source='GEOID1',target='GEOID2',edge_attr='effdist',create_using=nx.DiGraph())\n",
    "\n",
    "    d={'Target':targetlist}\n",
    "    dftemp=pd.DataFrame(d)\n",
    "    length,path = nx.single_source_dijkstra(G,CtySource,cutoff=EdgeCutoff,weight='effdist')\n",
    "    dftemp['CapD']=dftemp['Target'].map(length)\n",
    "    dftemp['Date']=date\n",
    "    dftemp['Days']=Days\n",
    "    dftemp['Route']=dftemp['Target'].map(path)\n",
    "    dftemp=dftemp.dropna(subset=['Route'])\n",
    "    dftemp['Nodes']=dftemp['Route'].apply(lambda x: len(x))\n",
    "    SingleEffdist=SingleEffdist.append(pd.DataFrame(dftemp))\n",
    "    Days=Days+1\n",
    "     \n",
    "Days=-int(CtyDayZero)\n",
    "for date in datelistori:\n",
    "    DayMob=pd.DataFrame()\n",
    "    DayMob=Mob[Mob['date']==date]\n",
    "    DayMob['Fraction']=DayMob['counts_x']/DayMob['counts_y'] #sum_x\n",
    "    DayMob['effdist']=1-np.log(DayMob['Fraction'])\n",
    "    G=nx.from_pandas_edgelist(DayMob,source='GEOID1',target='GEOID2',edge_attr='effdist',create_using=nx.DiGraph())\n",
    "    dftemp=pd.DataFrame()\n",
    "    for source in sourcelist:\n",
    "        d={'Source':source,'Target':targetlist}\n",
    "        dftemprec=pd.DataFrame(d)\n",
    "        length,path = nx.single_source_dijkstra(G,source,cutoff=EdgeCutoff,weight='effdist')\n",
    "        dftemprec['effdist']=dftemprec['Target'].map(length)\n",
    "        dftemp=dftemp.append(dftemprec)\n",
    "    dftemp['suminvexp']=1/np.exp(dftemp['effdist'])\n",
    "    dftemp=dftemp.groupby('Target').sum()\n",
    "    dftemp['suminvexp'].replace(0, np.nan, inplace=True)\n",
    "    dftemp=dftemp.reset_index()[['Target','suminvexp']]\n",
    "    dftemp['CapD']=np.log(CtyM)-np.log(dftemp['suminvexp'])\n",
    "    dftemp=dftemp.drop(columns=['suminvexp'])\n",
    "    dftemp['Date']=date\n",
    "    dftemp['Days']=Days\n",
    "    dftemp['Nodes']=np.log(CtyM)\n",
    "    MultiEffdist=MultiEffdist.append(pd.DataFrame(dftemp))\n",
    "    Days=Days+1\n",
    "\n",
    "SingleEffdistClean=SingleEffdist.drop(columns=['Route','Nodes'])\n",
    "SingleEffdistClean['Src']='Single'\n",
    "MultiEffdistClean=MultiEffdist.drop(columns=['Nodes'])\n",
    "MultiEffdistClean['Src']='Multiple'\n",
    "MixEffdist=SingleEffdistClean.append(MultiEffdistClean)\n",
    "#MixEffdist\n",
    "MixEffdist.to_csv('/Data/Src'+str(CtySourcelist[0])+'_'+str(CtySourcelist[1])+'_EF_LN_NoBase_DevCnt_AllCty_AllTime_tillJune.csv')"
   ]
  }
 ],
 "metadata": {
  "kernelspec": {
   "display_name": "Python 3",
   "language": "python",
   "name": "python3"
  },
  "language_info": {
   "codemirror_mode": {
    "name": "ipython",
    "version": 3
   },
   "file_extension": ".py",
   "mimetype": "text/x-python",
   "name": "python",
   "nbconvert_exporter": "python",
   "pygments_lexer": "ipython3",
   "version": "3.7.3"
  }
 },
 "nbformat": 4,
 "nbformat_minor": 2
}
